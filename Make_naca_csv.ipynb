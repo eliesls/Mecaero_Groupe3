{
 "metadata": {
  "language_info": {
   "codemirror_mode": {
    "name": "ipython",
    "version": 3
   },
   "file_extension": ".py",
   "mimetype": "text/x-python",
   "name": "python",
   "nbconvert_exporter": "python",
   "pygments_lexer": "ipython3",
   "version": "3.7.4-final"
  },
  "orig_nbformat": 2,
  "kernelspec": {
   "name": "python374jvsc74a57bd07dc85df5abdb7299892afc81f97b0ca5fe5f0f4fc868fa5548fc0c2681495dff",
   "display_name": "Python 3.7.4 64-bit (conda)"
  }
 },
 "nbformat": 4,
 "nbformat_minor": 2,
 "cells": [
  {
   "cell_type": "code",
   "execution_count": 114,
   "metadata": {},
   "outputs": [],
   "source": [
    "import numpy as np\n",
    "import pandas as pd\n",
    "from matplotlib import pyplot as plt\n",
    "import os\n",
    "from tqdm import tqdm"
   ]
  },
  {
   "cell_type": "code",
   "execution_count": 115,
   "metadata": {},
   "outputs": [],
   "source": [
    "naca_number = '0018'\n",
    "reynolds = '200000'\n",
    "path = f'Polars/xf-naca{naca_number}-il-{reynolds}.txt'"
   ]
  },
  {
   "cell_type": "code",
   "execution_count": 116,
   "metadata": {},
   "outputs": [
    {
     "output_type": "execute_result",
     "data": {
      "text/plain": [
       "['naca0006', '100000']"
      ]
     },
     "metadata": {},
     "execution_count": 116
    }
   ],
   "source": [
    "NACAS = os.listdir('Polars')\n",
    "NACAS[0][3:-4].split('-il-')"
   ]
  },
  {
   "cell_type": "code",
   "execution_count": 143,
   "metadata": {},
   "outputs": [
    {
     "output_type": "stream",
     "name": "stderr",
     "text": [
      "100%|██████████| 479/479 [03:22<00:00,  2.37it/s]\n"
     ]
    }
   ],
   "source": [
    "# Attention à ne run que pour générer le csv... Qui est déjà fourni\n",
    "\n",
    "naca_df = pd.DataFrame(columns=['naca','reynolds','alpha', 'CL', 'CD', 'CDp', 'CM', 'Top_Xtr', 'Bot_Xtr'])\n",
    "NACAS = os.listdir('Polars')\n",
    "count=0\n",
    "for naca in tqdm(NACAS):\n",
    "    [naca, reynolds] = naca[3:-4].split('-il-')\n",
    "    naca_number = naca[4:]\n",
    "    reynolds = int(reynolds)\n",
    "    path = f'Polars/xf-naca{naca_number}-il-{reynolds}.txt'\n",
    "    file = open(path, 'r')\n",
    "    for line in file:\n",
    "        if '--------' in line:\n",
    "            for line in file:\n",
    "                myline = list(filter(lambda x: x != '', line.split(' ')))\n",
    "                myline = [naca_number, reynolds] + [float(k) for k in myline]\n",
    "                naca_df.loc[count] = myline\n",
    "                count+=1"
   ]
  },
  {
   "cell_type": "code",
   "execution_count": 146,
   "metadata": {
    "tags": []
   },
   "outputs": [],
   "source": [
    "#naca_df.to_csv('nacas.csv',index = False, header = True)"
   ]
  },
  {
   "cell_type": "code",
   "execution_count": 1,
   "metadata": {},
   "outputs": [
    {
     "output_type": "error",
     "ename": "NameError",
     "evalue": "name 'naca_df' is not defined",
     "traceback": [
      "\u001b[1;31m---------------------------------------------------------------------------\u001b[0m",
      "\u001b[1;31mNameError\u001b[0m                                 Traceback (most recent call last)",
      "\u001b[1;32m<ipython-input-1-34cac9080fe8>\u001b[0m in \u001b[0;36m<module>\u001b[1;34m\u001b[0m\n\u001b[0;32m      1\u001b[0m \u001b[1;31m# Exemple : on affiche tout ce qu'il y a pour le naca 0006\u001b[0m\u001b[1;33m\u001b[0m\u001b[1;33m\u001b[0m\u001b[1;33m\u001b[0m\u001b[0m\n\u001b[1;32m----> 2\u001b[1;33m \u001b[0mnaca_df\u001b[0m\u001b[1;33m.\u001b[0m\u001b[0mloc\u001b[0m\u001b[1;33m[\u001b[0m\u001b[0mnaca_df\u001b[0m\u001b[1;33m[\u001b[0m\u001b[1;34m'naca'\u001b[0m\u001b[1;33m]\u001b[0m \u001b[1;33m==\u001b[0m \u001b[1;34m'0006'\u001b[0m\u001b[1;33m]\u001b[0m\u001b[1;33m\u001b[0m\u001b[1;33m\u001b[0m\u001b[0m\n\u001b[0m",
      "\u001b[1;31mNameError\u001b[0m: name 'naca_df' is not defined"
     ]
    }
   ],
   "source": [
    "# Exemple : on affiche tout ce qu'il y a pour le naca 0006\n",
    "naca_df.loc[naca_df['naca'] == '0006']"
   ]
  }
 ]
}