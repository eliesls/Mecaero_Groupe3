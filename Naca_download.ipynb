{
 "metadata": {
  "language_info": {
   "codemirror_mode": {
    "name": "ipython",
    "version": 3
   },
   "file_extension": ".py",
   "mimetype": "text/x-python",
   "name": "python",
   "nbconvert_exporter": "python",
   "pygments_lexer": "ipython3",
   "version": "3.7.4-final"
  },
  "orig_nbformat": 2,
  "kernelspec": {
   "name": "python374jvsc74a57bd07dc85df5abdb7299892afc81f97b0ca5fe5f0f4fc868fa5548fc0c2681495dff",
   "display_name": "Python 3.7.4 64-bit (conda)"
  }
 },
 "nbformat": 4,
 "nbformat_minor": 2,
 "cells": [
  {
   "cell_type": "code",
   "execution_count": 4,
   "metadata": {},
   "outputs": [],
   "source": [
    "import urllib.request\n",
    "import os\n",
    "import webbrowser\n",
    "from tqdm import tqdm"
   ]
  },
  {
   "cell_type": "code",
   "execution_count": 8,
   "metadata": {},
   "outputs": [],
   "source": [
    "NACAS = os.listdir('Coords').copy()\n",
    "for k in range(len(NACAS)):\n",
    "    pass\n",
    "    NACAS[k] = NACAS[k][:-4]"
   ]
  },
  {
   "cell_type": "code",
   "execution_count": 13,
   "metadata": {},
   "outputs": [],
   "source": [
    "NACAS = ['clarky']"
   ]
  },
  {
   "cell_type": "code",
   "execution_count": 14,
   "metadata": {},
   "outputs": [
    {
     "output_type": "stream",
     "name": "stdout",
     "text": [
      "Il y a 1 profils NACA\n['clarky']\n"
     ]
    }
   ],
   "source": [
    "print(f'Il y a {len(NACAS)} profils NACA')\n",
    "print(NACAS[0:3])"
   ]
  },
  {
   "cell_type": "code",
   "execution_count": 15,
   "metadata": {},
   "outputs": [
    {
     "output_type": "stream",
     "name": "stderr",
     "text": [
      "100%|██████████| 1/1 [00:00<00:00,  6.73it/s]\n"
     ]
    }
   ],
   "source": [
    "for naca in tqdm(NACAS):\n",
    "    for reynolds in [50000,100000,200000,500000,1000000]:\n",
    "        #urllib.request.urlopen(f'http://airfoiltools.com/polar/text?polar=xf-{string}-il-{reynolds}')\n",
    "        webbrowser.open(f'http://airfoiltools.com/polar/text?polar=xf-{naca}-il-{reynolds}')"
   ]
  }
 ]
}