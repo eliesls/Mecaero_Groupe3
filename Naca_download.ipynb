{
 "metadata": {
  "language_info": {
   "codemirror_mode": {
    "name": "ipython",
    "version": 3
   },
   "file_extension": ".py",
   "mimetype": "text/x-python",
   "name": "python",
   "nbconvert_exporter": "python",
   "pygments_lexer": "ipython3",
   "version": "3.7.4-final"
  },
  "orig_nbformat": 2,
  "kernelspec": {
   "name": "python374jvsc74a57bd07dc85df5abdb7299892afc81f97b0ca5fe5f0f4fc868fa5548fc0c2681495dff",
   "display_name": "Python 3.7.4 64-bit (conda)"
  }
 },
 "nbformat": 4,
 "nbformat_minor": 2,
 "cells": [
  {
   "cell_type": "code",
   "execution_count": 68,
   "metadata": {},
   "outputs": [],
   "source": [
    "import urllib.request\n",
    "import os\n",
    "import webbrowser\n",
    "from tqdm import tqdm"
   ]
  },
  {
   "cell_type": "code",
   "execution_count": 63,
   "metadata": {},
   "outputs": [],
   "source": [
    "NACAS = os.listdir('Coords').copy()\n",
    "for k in range(len(NACAS)):\n",
    "    NACAS[k] = NACAS[k][:-4]"
   ]
  },
  {
   "cell_type": "code",
   "execution_count": 71,
   "metadata": {},
   "outputs": [
    {
     "output_type": "stream",
     "name": "stdout",
     "text": [
      "Il y a 98 profils NACA\n['naca0006', 'naca0008', 'naca000834']\n"
     ]
    }
   ],
   "source": [
    "print(f'Il y a {len(NACAS)} profils NACA')\n",
    "print(NACAS[0:3])"
   ]
  },
  {
   "cell_type": "code",
   "execution_count": 76,
   "metadata": {},
   "outputs": [
    {
     "output_type": "error",
     "ename": "SyntaxError",
     "evalue": "unexpected EOF while parsing (<ipython-input-76-7bcf82eeb6a4>, line 4)",
     "traceback": [
      "\u001b[1;36m  File \u001b[1;32m\"<ipython-input-76-7bcf82eeb6a4>\"\u001b[1;36m, line \u001b[1;32m4\u001b[0m\n\u001b[1;33m    #webbrowser.open(f'http://airfoiltools.com/polar/text?polar=xf-{naca}-il-{reynolds}')\u001b[0m\n\u001b[1;37m                                                                                         ^\u001b[0m\n\u001b[1;31mSyntaxError\u001b[0m\u001b[1;31m:\u001b[0m unexpected EOF while parsing\n"
     ]
    }
   ],
   "source": [
    "for naca in tqdm(NACAS):\n",
    "    for reynolds in [50000,100000,200000,500000,1000000]:\n",
    "        #urllib.request.urlopen(f'http://airfoiltools.com/polar/text?polar=xf-{string}-il-{reynolds}')\n",
    "        #webbrowser.open(f'http://airfoiltools.com/polar/text?polar=xf-{naca}-il-{reynolds}')"
   ]
  }
 ]
}