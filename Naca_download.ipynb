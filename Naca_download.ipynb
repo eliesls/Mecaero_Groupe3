{
 "metadata": {
  "language_info": {
   "codemirror_mode": {
    "name": "ipython",
    "version": 3
   },
   "file_extension": ".py",
   "mimetype": "text/x-python",
   "name": "python",
   "nbconvert_exporter": "python",
   "pygments_lexer": "ipython3",
   "version": "3.7.4-final"
  },
  "orig_nbformat": 2,
  "kernelspec": {
   "name": "python374jvsc74a57bd07dc85df5abdb7299892afc81f97b0ca5fe5f0f4fc868fa5548fc0c2681495dff",
   "display_name": "Python 3.7.4 64-bit (conda)"
  }
 },
 "nbformat": 4,
 "nbformat_minor": 2,
 "cells": [
  {
   "cell_type": "code",
   "execution_count": 68,
   "metadata": {},
   "outputs": [],
   "source": [
    "import urllib.request\n",
    "import os\n",
    "import webbrowser\n",
    "from tqdm import tqdm"
   ]
  },
  {
   "cell_type": "code",
   "execution_count": 63,
   "metadata": {},
   "outputs": [],
   "source": [
    "NACAS = os.listdir('Coords').copy()\n",
    "for k in range(len(NACAS)):\n",
    "    NACAS[k] = NACAS[k][:-4]"
   ]
  },
  {
   "cell_type": "code",
   "execution_count": 71,
   "metadata": {},
   "outputs": [
    {
     "output_type": "stream",
     "name": "stdout",
     "text": [
      "Il y a 98 profils NACA\n['naca0006', 'naca0008', 'naca000834']\n"
     ]
    }
   ],
   "source": [
    "print(f'Il y a {len(NACAS)} profils NACA')\n",
    "print(NACAS[0:3])"
   ]
  },
  {
   "cell_type": "code",
   "execution_count": 76,
   "metadata": {},
   "outputs": [
    {
     "output_type": "error",
     "ename": "SyntaxError",
     "evalue": "unexpected EOF while parsing (<ipython-input-76-7bcf82eeb6a4>, line 4)",
     "traceback": [
      "\u001b[1;36m  File \u001b[1;32m\"<ipython-input-76-7bcf82eeb6a4>\"\u001b[1;36m, line \u001b[1;32m4\u001b[0m\n\u001b[1;33m    #webbrowser.open(f'http://airfoiltools.com/polar/text?polar=xf-{naca}-il-{reynolds}')\u001b[0m\n\u001b[1;37m                                                                                         ^\u001b[0m\n\u001b[1;31mSyntaxError\u001b[0m\u001b[1;31m:\u001b[0m unexpected EOF while parsing\n"
     ]
    }
   ],
   "source": [
    "for naca in tqdm(NACAS):\n",
    "    for reynolds in [50000,100000,200000,500000,1000000]:\n",
    "        #urllib.request.urlopen(f'http://airfoiltools.com/polar/text?polar=xf-{string}-il-{reynolds}')\n",
    "        #webbrowser.open(f'http://airfoiltools.com/polar/text?polar=xf-{naca}-il-{reynolds}')"
   ]
  },
  {
   "cell_type": "code",
   "execution_count": 56,
   "metadata": {},
   "outputs": [
    {
     "output_type": "execute_result",
     "data": {
      "text/plain": [
       "['naca0006',\n",
       " 'naca0008',\n",
       " 'naca000834',\n",
       " 'naca0010',\n",
       " 'naca001034',\n",
       " 'naca001034a08cli0.2',\n",
       " 'naca001035',\n",
       " 'naca001064',\n",
       " 'naca001065',\n",
       " 'naca001066',\n",
       " 'naca001234',\n",
       " 'naca001264',\n",
       " 'naca001264a08cli0.2',\n",
       " 'naca0015',\n",
       " 'naca0018',\n",
       " 'naca0021',\n",
       " 'naca0024',\n",
       " 'naca1408',\n",
       " 'naca1410',\n",
       " 'naca1412',\n",
       " 'naca16006',\n",
       " 'naca16009',\n",
       " 'naca16012',\n",
       " 'naca16015',\n",
       " 'naca16018',\n",
       " 'naca16021',\n",
       " 'naca23012',\n",
       " 'naca23015',\n",
       " 'naca23018',\n",
       " 'naca23021',\n",
       " 'naca23024',\n",
       " 'naca2408',\n",
       " 'naca2410',\n",
       " 'naca2411',\n",
       " 'naca2412',\n",
       " 'naca2415',\n",
       " 'naca2418',\n",
       " 'naca2421',\n",
       " 'naca2424',\n",
       " 'naca4412',\n",
       " 'naca4415',\n",
       " 'naca4418',\n",
       " 'naca4421',\n",
       " 'naca4424',\n",
       " 'naca63206',\n",
       " 'naca63209',\n",
       " 'naca632615',\n",
       " 'naca632a015',\n",
       " 'naca633018',\n",
       " 'naca633218',\n",
       " 'naca633418',\n",
       " 'naca633618',\n",
       " 'naca634221',\n",
       " 'naca634421',\n",
       " 'naca63a210',\n",
       " 'naca641112',\n",
       " 'naca6412',\n",
       " 'naca64206',\n",
       " 'naca64208',\n",
       " 'naca64209',\n",
       " 'naca64210',\n",
       " 'naca642215',\n",
       " 'naca642415',\n",
       " 'naca643218',\n",
       " 'naca643418',\n",
       " 'naca643618',\n",
       " 'naca644221',\n",
       " 'naca644421',\n",
       " 'naca64a010',\n",
       " 'naca64a210',\n",
       " 'naca64a410',\n",
       " 'naca651212',\n",
       " 'naca651212a06',\n",
       " 'naca651412',\n",
       " 'naca65206',\n",
       " 'naca65209',\n",
       " 'naca65210',\n",
       " 'naca652215',\n",
       " 'naca652415',\n",
       " 'naca652415a05',\n",
       " 'naca653218',\n",
       " 'naca65410',\n",
       " 'naca654221',\n",
       " 'naca654421',\n",
       " 'naca654421a05',\n",
       " 'naca66-018',\n",
       " 'naca661212',\n",
       " 'naca66206',\n",
       " 'naca66209',\n",
       " 'naca66210',\n",
       " 'naca662215',\n",
       " 'naca662415',\n",
       " 'naca663218',\n",
       " 'naca663418',\n",
       " 'naca664221',\n",
       " 'naca671215',\n",
       " 'naca747a315',\n",
       " 'naca747a415']"
      ]
     },
     "metadata": {},
     "execution_count": 56
    }
   ],
   "source": [
    "NACAS"
   ]
  }
 ]
}