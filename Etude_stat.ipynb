{
 "metadata": {
  "language_info": {
   "codemirror_mode": {
    "name": "ipython",
    "version": 3
   },
   "file_extension": ".py",
   "mimetype": "text/x-python",
   "name": "python",
   "nbconvert_exporter": "python",
   "pygments_lexer": "ipython3",
   "version": "3.7.4-final"
  },
  "orig_nbformat": 2,
  "kernelspec": {
   "name": "python374jvsc74a57bd07dc85df5abdb7299892afc81f97b0ca5fe5f0f4fc868fa5548fc0c2681495dff",
   "display_name": "Python 3.7.4 64-bit (conda)"
  }
 },
 "nbformat": 4,
 "nbformat_minor": 2,
 "cells": [
  {
   "cell_type": "code",
   "execution_count": 90,
   "metadata": {},
   "outputs": [],
   "source": [
    "import pandas as pd\n",
    "import numpy as np\n",
    "from matplotlib import pyplot as plt"
   ]
  },
  {
   "cell_type": "code",
   "execution_count": 196,
   "metadata": {},
   "outputs": [
    {
     "output_type": "execute_result",
     "data": {
      "text/plain": [
       "    naca  reynolds  alpha      CL       CD      CDp      CM  Top_Xtr  Bot_Xtr\n",
       "0   0006    100000 -10.00 -0.5661  0.11269  0.10814  0.0140      1.0   0.0914\n",
       "1   0006    100000  -9.75 -0.5830  0.10909  0.10461  0.0097      1.0   0.0925\n",
       "2   0006    100000  -9.50 -0.7037  0.11447  0.10977  0.0241      1.0   0.0814\n",
       "3   0006    100000  -9.25 -0.6934  0.11087  0.10614  0.0257      1.0   0.0859\n",
       "4   0006    100000  -9.00 -0.6952  0.10675  0.10207  0.0227      1.0   0.0898\n",
       "5   0006    100000  -8.75 -0.7078  0.10227  0.09768  0.0146      1.0   0.0921\n",
       "6   0006    100000  -8.50 -0.7208  0.09688  0.09233  0.0047      1.0   0.0927\n",
       "7   0006    100000  -8.25 -0.6967  0.09341  0.08887  0.0159      1.0   0.0987\n",
       "8   0006    100000  -8.00 -0.6997  0.08881  0.08432  0.0114      1.0   0.1029\n",
       "9   0006    100000  -7.75 -0.7174  0.08268  0.07796 -0.0036      1.0   0.1066\n",
       "10  0006    100000  -7.50 -0.6995  0.07812  0.07361  0.0024      1.0   0.1110\n",
       "11  0006    100000  -7.25 -0.7061  0.07370  0.06878 -0.0067      1.0   0.1208\n",
       "12  0006    100000  -7.00 -0.6891  0.06863  0.06399 -0.0028      1.0   0.1254\n",
       "13  0006    100000  -6.75 -0.6168  0.05155  0.04715 -0.0071      1.0   0.1467\n",
       "14  0006    100000  -6.50 -0.6741  0.05985  0.05481 -0.0076      1.0   0.1506\n",
       "15  0006    100000  -6.25 -0.6605  0.05609  0.05099 -0.0071      1.0   0.1655\n",
       "16  0006    100000  -6.00 -0.6320  0.04340  0.03670 -0.0112      1.0   0.0785\n",
       "17  0006    100000  -5.75 -0.6107  0.03711  0.02979 -0.0103      1.0   0.0638\n",
       "18  0006    100000  -5.50 -0.5895  0.03283  0.02504 -0.0095      1.0   0.0618\n",
       "19  0006    100000  -5.25 -0.5658  0.02890  0.02053 -0.0084      1.0   0.0592"
      ],
      "text/html": "<div>\n<style scoped>\n    .dataframe tbody tr th:only-of-type {\n        vertical-align: middle;\n    }\n\n    .dataframe tbody tr th {\n        vertical-align: top;\n    }\n\n    .dataframe thead th {\n        text-align: right;\n    }\n</style>\n<table border=\"1\" class=\"dataframe\">\n  <thead>\n    <tr style=\"text-align: right;\">\n      <th></th>\n      <th>naca</th>\n      <th>reynolds</th>\n      <th>alpha</th>\n      <th>CL</th>\n      <th>CD</th>\n      <th>CDp</th>\n      <th>CM</th>\n      <th>Top_Xtr</th>\n      <th>Bot_Xtr</th>\n    </tr>\n  </thead>\n  <tbody>\n    <tr>\n      <td>0</td>\n      <td>0006</td>\n      <td>100000</td>\n      <td>-10.00</td>\n      <td>-0.5661</td>\n      <td>0.11269</td>\n      <td>0.10814</td>\n      <td>0.0140</td>\n      <td>1.0</td>\n      <td>0.0914</td>\n    </tr>\n    <tr>\n      <td>1</td>\n      <td>0006</td>\n      <td>100000</td>\n      <td>-9.75</td>\n      <td>-0.5830</td>\n      <td>0.10909</td>\n      <td>0.10461</td>\n      <td>0.0097</td>\n      <td>1.0</td>\n      <td>0.0925</td>\n    </tr>\n    <tr>\n      <td>2</td>\n      <td>0006</td>\n      <td>100000</td>\n      <td>-9.50</td>\n      <td>-0.7037</td>\n      <td>0.11447</td>\n      <td>0.10977</td>\n      <td>0.0241</td>\n      <td>1.0</td>\n      <td>0.0814</td>\n    </tr>\n    <tr>\n      <td>3</td>\n      <td>0006</td>\n      <td>100000</td>\n      <td>-9.25</td>\n      <td>-0.6934</td>\n      <td>0.11087</td>\n      <td>0.10614</td>\n      <td>0.0257</td>\n      <td>1.0</td>\n      <td>0.0859</td>\n    </tr>\n    <tr>\n      <td>4</td>\n      <td>0006</td>\n      <td>100000</td>\n      <td>-9.00</td>\n      <td>-0.6952</td>\n      <td>0.10675</td>\n      <td>0.10207</td>\n      <td>0.0227</td>\n      <td>1.0</td>\n      <td>0.0898</td>\n    </tr>\n    <tr>\n      <td>5</td>\n      <td>0006</td>\n      <td>100000</td>\n      <td>-8.75</td>\n      <td>-0.7078</td>\n      <td>0.10227</td>\n      <td>0.09768</td>\n      <td>0.0146</td>\n      <td>1.0</td>\n      <td>0.0921</td>\n    </tr>\n    <tr>\n      <td>6</td>\n      <td>0006</td>\n      <td>100000</td>\n      <td>-8.50</td>\n      <td>-0.7208</td>\n      <td>0.09688</td>\n      <td>0.09233</td>\n      <td>0.0047</td>\n      <td>1.0</td>\n      <td>0.0927</td>\n    </tr>\n    <tr>\n      <td>7</td>\n      <td>0006</td>\n      <td>100000</td>\n      <td>-8.25</td>\n      <td>-0.6967</td>\n      <td>0.09341</td>\n      <td>0.08887</td>\n      <td>0.0159</td>\n      <td>1.0</td>\n      <td>0.0987</td>\n    </tr>\n    <tr>\n      <td>8</td>\n      <td>0006</td>\n      <td>100000</td>\n      <td>-8.00</td>\n      <td>-0.6997</td>\n      <td>0.08881</td>\n      <td>0.08432</td>\n      <td>0.0114</td>\n      <td>1.0</td>\n      <td>0.1029</td>\n    </tr>\n    <tr>\n      <td>9</td>\n      <td>0006</td>\n      <td>100000</td>\n      <td>-7.75</td>\n      <td>-0.7174</td>\n      <td>0.08268</td>\n      <td>0.07796</td>\n      <td>-0.0036</td>\n      <td>1.0</td>\n      <td>0.1066</td>\n    </tr>\n    <tr>\n      <td>10</td>\n      <td>0006</td>\n      <td>100000</td>\n      <td>-7.50</td>\n      <td>-0.6995</td>\n      <td>0.07812</td>\n      <td>0.07361</td>\n      <td>0.0024</td>\n      <td>1.0</td>\n      <td>0.1110</td>\n    </tr>\n    <tr>\n      <td>11</td>\n      <td>0006</td>\n      <td>100000</td>\n      <td>-7.25</td>\n      <td>-0.7061</td>\n      <td>0.07370</td>\n      <td>0.06878</td>\n      <td>-0.0067</td>\n      <td>1.0</td>\n      <td>0.1208</td>\n    </tr>\n    <tr>\n      <td>12</td>\n      <td>0006</td>\n      <td>100000</td>\n      <td>-7.00</td>\n      <td>-0.6891</td>\n      <td>0.06863</td>\n      <td>0.06399</td>\n      <td>-0.0028</td>\n      <td>1.0</td>\n      <td>0.1254</td>\n    </tr>\n    <tr>\n      <td>13</td>\n      <td>0006</td>\n      <td>100000</td>\n      <td>-6.75</td>\n      <td>-0.6168</td>\n      <td>0.05155</td>\n      <td>0.04715</td>\n      <td>-0.0071</td>\n      <td>1.0</td>\n      <td>0.1467</td>\n    </tr>\n    <tr>\n      <td>14</td>\n      <td>0006</td>\n      <td>100000</td>\n      <td>-6.50</td>\n      <td>-0.6741</td>\n      <td>0.05985</td>\n      <td>0.05481</td>\n      <td>-0.0076</td>\n      <td>1.0</td>\n      <td>0.1506</td>\n    </tr>\n    <tr>\n      <td>15</td>\n      <td>0006</td>\n      <td>100000</td>\n      <td>-6.25</td>\n      <td>-0.6605</td>\n      <td>0.05609</td>\n      <td>0.05099</td>\n      <td>-0.0071</td>\n      <td>1.0</td>\n      <td>0.1655</td>\n    </tr>\n    <tr>\n      <td>16</td>\n      <td>0006</td>\n      <td>100000</td>\n      <td>-6.00</td>\n      <td>-0.6320</td>\n      <td>0.04340</td>\n      <td>0.03670</td>\n      <td>-0.0112</td>\n      <td>1.0</td>\n      <td>0.0785</td>\n    </tr>\n    <tr>\n      <td>17</td>\n      <td>0006</td>\n      <td>100000</td>\n      <td>-5.75</td>\n      <td>-0.6107</td>\n      <td>0.03711</td>\n      <td>0.02979</td>\n      <td>-0.0103</td>\n      <td>1.0</td>\n      <td>0.0638</td>\n    </tr>\n    <tr>\n      <td>18</td>\n      <td>0006</td>\n      <td>100000</td>\n      <td>-5.50</td>\n      <td>-0.5895</td>\n      <td>0.03283</td>\n      <td>0.02504</td>\n      <td>-0.0095</td>\n      <td>1.0</td>\n      <td>0.0618</td>\n    </tr>\n    <tr>\n      <td>19</td>\n      <td>0006</td>\n      <td>100000</td>\n      <td>-5.25</td>\n      <td>-0.5658</td>\n      <td>0.02890</td>\n      <td>0.02053</td>\n      <td>-0.0084</td>\n      <td>1.0</td>\n      <td>0.0592</td>\n    </tr>\n  </tbody>\n</table>\n</div>"
     },
     "metadata": {},
     "execution_count": 196
    }
   ],
   "source": [
    "df = pd.read_csv('nacas.csv')\n",
    "df.head(n=20)"
   ]
  },
  {
   "cell_type": "code",
   "execution_count": 197,
   "metadata": {},
   "outputs": [],
   "source": [
    "# Vrillage de test : pour un rayon de 5cm va de pi/2 (90°) à 0 (0°)\n",
    "\n",
    "def f_1(x):\n",
    "    return (x-0.01) * 20 + (x-0.09)/(0.01-0.09) * 1"
   ]
  },
  {
   "cell_type": "code",
   "execution_count": 199,
   "metadata": {},
   "outputs": [
    {
     "output_type": "execute_result",
     "data": {
      "text/plain": [
       "[<matplotlib.lines.Line2D at 0x2f4c863f448>]"
      ]
     },
     "metadata": {},
     "execution_count": 199
    },
    {
     "output_type": "display_data",
     "data": {
      "text/plain": "<Figure size 432x288 with 1 Axes>",
      "image/svg+xml": "<?xml version=\"1.0\" encoding=\"utf-8\" standalone=\"no\"?>\r\n<!DOCTYPE svg PUBLIC \"-//W3C//DTD SVG 1.1//EN\"\r\n  \"http://www.w3.org/Graphics/SVG/1.1/DTD/svg11.dtd\">\r\n<!-- Created with matplotlib (https://matplotlib.org/) -->\r\n<svg height=\"248.518125pt\" version=\"1.1\" viewBox=\"0 0 378.465625 248.518125\" width=\"378.465625pt\" xmlns=\"http://www.w3.org/2000/svg\" xmlns:xlink=\"http://www.w3.org/1999/xlink\">\r\n <defs>\r\n  <style type=\"text/css\">\r\n*{stroke-linecap:butt;stroke-linejoin:round;}\r\n  </style>\r\n </defs>\r\n <g id=\"figure_1\">\r\n  <g id=\"patch_1\">\r\n   <path d=\"M 0 248.518125 \r\nL 378.465625 248.518125 \r\nL 378.465625 0 \r\nL 0 0 \r\nz\r\n\" style=\"fill:none;\"/>\r\n  </g>\r\n  <g id=\"axes_1\">\r\n   <g id=\"patch_2\">\r\n    <path d=\"M 36.465625 224.64 \r\nL 371.265625 224.64 \r\nL 371.265625 7.2 \r\nL 36.465625 7.2 \r\nz\r\n\" style=\"fill:#ffffff;\"/>\r\n   </g>\r\n   <g id=\"matplotlib.axis_1\">\r\n    <g id=\"xtick_1\">\r\n     <g id=\"line2d_1\">\r\n      <defs>\r\n       <path d=\"M 0 0 \r\nL 0 3.5 \r\n\" id=\"m16d3f9b6e5\" style=\"stroke:#000000;stroke-width:0.8;\"/>\r\n      </defs>\r\n      <g>\r\n       <use style=\"stroke:#000000;stroke-width:0.8;\" x=\"51.683807\" xlink:href=\"#m16d3f9b6e5\" y=\"224.64\"/>\r\n      </g>\r\n     </g>\r\n     <g id=\"text_1\">\r\n      <!-- 0 -->\r\n      <defs>\r\n       <path d=\"M 31.78125 66.40625 \r\nQ 24.171875 66.40625 20.328125 58.90625 \r\nQ 16.5 51.421875 16.5 36.375 \r\nQ 16.5 21.390625 20.328125 13.890625 \r\nQ 24.171875 6.390625 31.78125 6.390625 \r\nQ 39.453125 6.390625 43.28125 13.890625 \r\nQ 47.125 21.390625 47.125 36.375 \r\nQ 47.125 51.421875 43.28125 58.90625 \r\nQ 39.453125 66.40625 31.78125 66.40625 \r\nz\r\nM 31.78125 74.21875 \r\nQ 44.046875 74.21875 50.515625 64.515625 \r\nQ 56.984375 54.828125 56.984375 36.375 \r\nQ 56.984375 17.96875 50.515625 8.265625 \r\nQ 44.046875 -1.421875 31.78125 -1.421875 \r\nQ 19.53125 -1.421875 13.0625 8.265625 \r\nQ 6.59375 17.96875 6.59375 36.375 \r\nQ 6.59375 54.828125 13.0625 64.515625 \r\nQ 19.53125 74.21875 31.78125 74.21875 \r\nz\r\n\" id=\"DejaVuSans-48\"/>\r\n      </defs>\r\n      <g transform=\"translate(48.502557 239.238437)scale(0.1 -0.1)\">\r\n       <use xlink:href=\"#DejaVuSans-48\"/>\r\n      </g>\r\n     </g>\r\n    </g>\r\n    <g id=\"xtick_2\">\r\n     <g id=\"line2d_2\">\r\n      <g>\r\n       <use style=\"stroke:#000000;stroke-width:0.8;\" x=\"89.729261\" xlink:href=\"#m16d3f9b6e5\" y=\"224.64\"/>\r\n      </g>\r\n     </g>\r\n     <g id=\"text_2\">\r\n      <!-- 1 -->\r\n      <defs>\r\n       <path d=\"M 12.40625 8.296875 \r\nL 28.515625 8.296875 \r\nL 28.515625 63.921875 \r\nL 10.984375 60.40625 \r\nL 10.984375 69.390625 \r\nL 28.421875 72.90625 \r\nL 38.28125 72.90625 \r\nL 38.28125 8.296875 \r\nL 54.390625 8.296875 \r\nL 54.390625 0 \r\nL 12.40625 0 \r\nz\r\n\" id=\"DejaVuSans-49\"/>\r\n      </defs>\r\n      <g transform=\"translate(86.548011 239.238437)scale(0.1 -0.1)\">\r\n       <use xlink:href=\"#DejaVuSans-49\"/>\r\n      </g>\r\n     </g>\r\n    </g>\r\n    <g id=\"xtick_3\">\r\n     <g id=\"line2d_3\">\r\n      <g>\r\n       <use style=\"stroke:#000000;stroke-width:0.8;\" x=\"127.774716\" xlink:href=\"#m16d3f9b6e5\" y=\"224.64\"/>\r\n      </g>\r\n     </g>\r\n     <g id=\"text_3\">\r\n      <!-- 2 -->\r\n      <defs>\r\n       <path d=\"M 19.1875 8.296875 \r\nL 53.609375 8.296875 \r\nL 53.609375 0 \r\nL 7.328125 0 \r\nL 7.328125 8.296875 \r\nQ 12.9375 14.109375 22.625 23.890625 \r\nQ 32.328125 33.6875 34.8125 36.53125 \r\nQ 39.546875 41.84375 41.421875 45.53125 \r\nQ 43.3125 49.21875 43.3125 52.78125 \r\nQ 43.3125 58.59375 39.234375 62.25 \r\nQ 35.15625 65.921875 28.609375 65.921875 \r\nQ 23.96875 65.921875 18.8125 64.3125 \r\nQ 13.671875 62.703125 7.8125 59.421875 \r\nL 7.8125 69.390625 \r\nQ 13.765625 71.78125 18.9375 73 \r\nQ 24.125 74.21875 28.421875 74.21875 \r\nQ 39.75 74.21875 46.484375 68.546875 \r\nQ 53.21875 62.890625 53.21875 53.421875 \r\nQ 53.21875 48.921875 51.53125 44.890625 \r\nQ 49.859375 40.875 45.40625 35.40625 \r\nQ 44.1875 33.984375 37.640625 27.21875 \r\nQ 31.109375 20.453125 19.1875 8.296875 \r\nz\r\n\" id=\"DejaVuSans-50\"/>\r\n      </defs>\r\n      <g transform=\"translate(124.593466 239.238437)scale(0.1 -0.1)\">\r\n       <use xlink:href=\"#DejaVuSans-50\"/>\r\n      </g>\r\n     </g>\r\n    </g>\r\n    <g id=\"xtick_4\">\r\n     <g id=\"line2d_4\">\r\n      <g>\r\n       <use style=\"stroke:#000000;stroke-width:0.8;\" x=\"165.82017\" xlink:href=\"#m16d3f9b6e5\" y=\"224.64\"/>\r\n      </g>\r\n     </g>\r\n     <g id=\"text_4\">\r\n      <!-- 3 -->\r\n      <defs>\r\n       <path d=\"M 40.578125 39.3125 \r\nQ 47.65625 37.796875 51.625 33 \r\nQ 55.609375 28.21875 55.609375 21.1875 \r\nQ 55.609375 10.40625 48.1875 4.484375 \r\nQ 40.765625 -1.421875 27.09375 -1.421875 \r\nQ 22.515625 -1.421875 17.65625 -0.515625 \r\nQ 12.796875 0.390625 7.625 2.203125 \r\nL 7.625 11.71875 \r\nQ 11.71875 9.328125 16.59375 8.109375 \r\nQ 21.484375 6.890625 26.8125 6.890625 \r\nQ 36.078125 6.890625 40.9375 10.546875 \r\nQ 45.796875 14.203125 45.796875 21.1875 \r\nQ 45.796875 27.640625 41.28125 31.265625 \r\nQ 36.765625 34.90625 28.71875 34.90625 \r\nL 20.21875 34.90625 \r\nL 20.21875 43.015625 \r\nL 29.109375 43.015625 \r\nQ 36.375 43.015625 40.234375 45.921875 \r\nQ 44.09375 48.828125 44.09375 54.296875 \r\nQ 44.09375 59.90625 40.109375 62.90625 \r\nQ 36.140625 65.921875 28.71875 65.921875 \r\nQ 24.65625 65.921875 20.015625 65.03125 \r\nQ 15.375 64.15625 9.8125 62.3125 \r\nL 9.8125 71.09375 \r\nQ 15.4375 72.65625 20.34375 73.4375 \r\nQ 25.25 74.21875 29.59375 74.21875 \r\nQ 40.828125 74.21875 47.359375 69.109375 \r\nQ 53.90625 64.015625 53.90625 55.328125 \r\nQ 53.90625 49.265625 50.4375 45.09375 \r\nQ 46.96875 40.921875 40.578125 39.3125 \r\nz\r\n\" id=\"DejaVuSans-51\"/>\r\n      </defs>\r\n      <g transform=\"translate(162.63892 239.238437)scale(0.1 -0.1)\">\r\n       <use xlink:href=\"#DejaVuSans-51\"/>\r\n      </g>\r\n     </g>\r\n    </g>\r\n    <g id=\"xtick_5\">\r\n     <g id=\"line2d_5\">\r\n      <g>\r\n       <use style=\"stroke:#000000;stroke-width:0.8;\" x=\"203.865625\" xlink:href=\"#m16d3f9b6e5\" y=\"224.64\"/>\r\n      </g>\r\n     </g>\r\n     <g id=\"text_5\">\r\n      <!-- 4 -->\r\n      <defs>\r\n       <path d=\"M 37.796875 64.3125 \r\nL 12.890625 25.390625 \r\nL 37.796875 25.390625 \r\nz\r\nM 35.203125 72.90625 \r\nL 47.609375 72.90625 \r\nL 47.609375 25.390625 \r\nL 58.015625 25.390625 \r\nL 58.015625 17.1875 \r\nL 47.609375 17.1875 \r\nL 47.609375 0 \r\nL 37.796875 0 \r\nL 37.796875 17.1875 \r\nL 4.890625 17.1875 \r\nL 4.890625 26.703125 \r\nz\r\n\" id=\"DejaVuSans-52\"/>\r\n      </defs>\r\n      <g transform=\"translate(200.684375 239.238437)scale(0.1 -0.1)\">\r\n       <use xlink:href=\"#DejaVuSans-52\"/>\r\n      </g>\r\n     </g>\r\n    </g>\r\n    <g id=\"xtick_6\">\r\n     <g id=\"line2d_6\">\r\n      <g>\r\n       <use style=\"stroke:#000000;stroke-width:0.8;\" x=\"241.91108\" xlink:href=\"#m16d3f9b6e5\" y=\"224.64\"/>\r\n      </g>\r\n     </g>\r\n     <g id=\"text_6\">\r\n      <!-- 5 -->\r\n      <defs>\r\n       <path d=\"M 10.796875 72.90625 \r\nL 49.515625 72.90625 \r\nL 49.515625 64.59375 \r\nL 19.828125 64.59375 \r\nL 19.828125 46.734375 \r\nQ 21.96875 47.46875 24.109375 47.828125 \r\nQ 26.265625 48.1875 28.421875 48.1875 \r\nQ 40.625 48.1875 47.75 41.5 \r\nQ 54.890625 34.8125 54.890625 23.390625 \r\nQ 54.890625 11.625 47.5625 5.09375 \r\nQ 40.234375 -1.421875 26.90625 -1.421875 \r\nQ 22.3125 -1.421875 17.546875 -0.640625 \r\nQ 12.796875 0.140625 7.71875 1.703125 \r\nL 7.71875 11.625 \r\nQ 12.109375 9.234375 16.796875 8.0625 \r\nQ 21.484375 6.890625 26.703125 6.890625 \r\nQ 35.15625 6.890625 40.078125 11.328125 \r\nQ 45.015625 15.765625 45.015625 23.390625 \r\nQ 45.015625 31 40.078125 35.4375 \r\nQ 35.15625 39.890625 26.703125 39.890625 \r\nQ 22.75 39.890625 18.8125 39.015625 \r\nQ 14.890625 38.140625 10.796875 36.28125 \r\nz\r\n\" id=\"DejaVuSans-53\"/>\r\n      </defs>\r\n      <g transform=\"translate(238.72983 239.238437)scale(0.1 -0.1)\">\r\n       <use xlink:href=\"#DejaVuSans-53\"/>\r\n      </g>\r\n     </g>\r\n    </g>\r\n    <g id=\"xtick_7\">\r\n     <g id=\"line2d_7\">\r\n      <g>\r\n       <use style=\"stroke:#000000;stroke-width:0.8;\" x=\"279.956534\" xlink:href=\"#m16d3f9b6e5\" y=\"224.64\"/>\r\n      </g>\r\n     </g>\r\n     <g id=\"text_7\">\r\n      <!-- 6 -->\r\n      <defs>\r\n       <path d=\"M 33.015625 40.375 \r\nQ 26.375 40.375 22.484375 35.828125 \r\nQ 18.609375 31.296875 18.609375 23.390625 \r\nQ 18.609375 15.53125 22.484375 10.953125 \r\nQ 26.375 6.390625 33.015625 6.390625 \r\nQ 39.65625 6.390625 43.53125 10.953125 \r\nQ 47.40625 15.53125 47.40625 23.390625 \r\nQ 47.40625 31.296875 43.53125 35.828125 \r\nQ 39.65625 40.375 33.015625 40.375 \r\nz\r\nM 52.59375 71.296875 \r\nL 52.59375 62.3125 \r\nQ 48.875 64.0625 45.09375 64.984375 \r\nQ 41.3125 65.921875 37.59375 65.921875 \r\nQ 27.828125 65.921875 22.671875 59.328125 \r\nQ 17.53125 52.734375 16.796875 39.40625 \r\nQ 19.671875 43.65625 24.015625 45.921875 \r\nQ 28.375 48.1875 33.59375 48.1875 \r\nQ 44.578125 48.1875 50.953125 41.515625 \r\nQ 57.328125 34.859375 57.328125 23.390625 \r\nQ 57.328125 12.15625 50.6875 5.359375 \r\nQ 44.046875 -1.421875 33.015625 -1.421875 \r\nQ 20.359375 -1.421875 13.671875 8.265625 \r\nQ 6.984375 17.96875 6.984375 36.375 \r\nQ 6.984375 53.65625 15.1875 63.9375 \r\nQ 23.390625 74.21875 37.203125 74.21875 \r\nQ 40.921875 74.21875 44.703125 73.484375 \r\nQ 48.484375 72.75 52.59375 71.296875 \r\nz\r\n\" id=\"DejaVuSans-54\"/>\r\n      </defs>\r\n      <g transform=\"translate(276.775284 239.238437)scale(0.1 -0.1)\">\r\n       <use xlink:href=\"#DejaVuSans-54\"/>\r\n      </g>\r\n     </g>\r\n    </g>\r\n    <g id=\"xtick_8\">\r\n     <g id=\"line2d_8\">\r\n      <g>\r\n       <use style=\"stroke:#000000;stroke-width:0.8;\" x=\"318.001989\" xlink:href=\"#m16d3f9b6e5\" y=\"224.64\"/>\r\n      </g>\r\n     </g>\r\n     <g id=\"text_8\">\r\n      <!-- 7 -->\r\n      <defs>\r\n       <path d=\"M 8.203125 72.90625 \r\nL 55.078125 72.90625 \r\nL 55.078125 68.703125 \r\nL 28.609375 0 \r\nL 18.3125 0 \r\nL 43.21875 64.59375 \r\nL 8.203125 64.59375 \r\nz\r\n\" id=\"DejaVuSans-55\"/>\r\n      </defs>\r\n      <g transform=\"translate(314.820739 239.238437)scale(0.1 -0.1)\">\r\n       <use xlink:href=\"#DejaVuSans-55\"/>\r\n      </g>\r\n     </g>\r\n    </g>\r\n    <g id=\"xtick_9\">\r\n     <g id=\"line2d_9\">\r\n      <g>\r\n       <use style=\"stroke:#000000;stroke-width:0.8;\" x=\"356.047443\" xlink:href=\"#m16d3f9b6e5\" y=\"224.64\"/>\r\n      </g>\r\n     </g>\r\n     <g id=\"text_9\">\r\n      <!-- 8 -->\r\n      <defs>\r\n       <path d=\"M 31.78125 34.625 \r\nQ 24.75 34.625 20.71875 30.859375 \r\nQ 16.703125 27.09375 16.703125 20.515625 \r\nQ 16.703125 13.921875 20.71875 10.15625 \r\nQ 24.75 6.390625 31.78125 6.390625 \r\nQ 38.8125 6.390625 42.859375 10.171875 \r\nQ 46.921875 13.96875 46.921875 20.515625 \r\nQ 46.921875 27.09375 42.890625 30.859375 \r\nQ 38.875 34.625 31.78125 34.625 \r\nz\r\nM 21.921875 38.8125 \r\nQ 15.578125 40.375 12.03125 44.71875 \r\nQ 8.5 49.078125 8.5 55.328125 \r\nQ 8.5 64.0625 14.71875 69.140625 \r\nQ 20.953125 74.21875 31.78125 74.21875 \r\nQ 42.671875 74.21875 48.875 69.140625 \r\nQ 55.078125 64.0625 55.078125 55.328125 \r\nQ 55.078125 49.078125 51.53125 44.71875 \r\nQ 48 40.375 41.703125 38.8125 \r\nQ 48.828125 37.15625 52.796875 32.3125 \r\nQ 56.78125 27.484375 56.78125 20.515625 \r\nQ 56.78125 9.90625 50.3125 4.234375 \r\nQ 43.84375 -1.421875 31.78125 -1.421875 \r\nQ 19.734375 -1.421875 13.25 4.234375 \r\nQ 6.78125 9.90625 6.78125 20.515625 \r\nQ 6.78125 27.484375 10.78125 32.3125 \r\nQ 14.796875 37.15625 21.921875 38.8125 \r\nz\r\nM 18.3125 54.390625 \r\nQ 18.3125 48.734375 21.84375 45.5625 \r\nQ 25.390625 42.390625 31.78125 42.390625 \r\nQ 38.140625 42.390625 41.71875 45.5625 \r\nQ 45.3125 48.734375 45.3125 54.390625 \r\nQ 45.3125 60.0625 41.71875 63.234375 \r\nQ 38.140625 66.40625 31.78125 66.40625 \r\nQ 25.390625 66.40625 21.84375 63.234375 \r\nQ 18.3125 60.0625 18.3125 54.390625 \r\nz\r\n\" id=\"DejaVuSans-56\"/>\r\n      </defs>\r\n      <g transform=\"translate(352.866193 239.238437)scale(0.1 -0.1)\">\r\n       <use xlink:href=\"#DejaVuSans-56\"/>\r\n      </g>\r\n     </g>\r\n    </g>\r\n   </g>\r\n   <g id=\"matplotlib.axis_2\">\r\n    <g id=\"ytick_1\">\r\n     <g id=\"line2d_10\">\r\n      <defs>\r\n       <path d=\"M 0 0 \r\nL -3.5 0 \r\n\" id=\"m614e65ad37\" style=\"stroke:#000000;stroke-width:0.8;\"/>\r\n      </defs>\r\n      <g>\r\n       <use style=\"stroke:#000000;stroke-width:0.8;\" x=\"36.465625\" xlink:href=\"#m614e65ad37\" y=\"205.343377\"/>\r\n      </g>\r\n     </g>\r\n     <g id=\"text_10\">\r\n      <!-- 0.00 -->\r\n      <defs>\r\n       <path d=\"M 10.6875 12.40625 \r\nL 21 12.40625 \r\nL 21 0 \r\nL 10.6875 0 \r\nz\r\n\" id=\"DejaVuSans-46\"/>\r\n      </defs>\r\n      <g transform=\"translate(7.2 209.142595)scale(0.1 -0.1)\">\r\n       <use xlink:href=\"#DejaVuSans-48\"/>\r\n       <use x=\"63.623047\" xlink:href=\"#DejaVuSans-46\"/>\r\n       <use x=\"95.410156\" xlink:href=\"#DejaVuSans-48\"/>\r\n       <use x=\"159.033203\" xlink:href=\"#DejaVuSans-48\"/>\r\n      </g>\r\n     </g>\r\n    </g>\r\n    <g id=\"ytick_2\">\r\n     <g id=\"line2d_11\">\r\n      <g>\r\n       <use style=\"stroke:#000000;stroke-width:0.8;\" x=\"36.465625\" xlink:href=\"#m614e65ad37\" y=\"175.927792\"/>\r\n      </g>\r\n     </g>\r\n     <g id=\"text_11\">\r\n      <!-- 0.25 -->\r\n      <g transform=\"translate(7.2 179.727011)scale(0.1 -0.1)\">\r\n       <use xlink:href=\"#DejaVuSans-48\"/>\r\n       <use x=\"63.623047\" xlink:href=\"#DejaVuSans-46\"/>\r\n       <use x=\"95.410156\" xlink:href=\"#DejaVuSans-50\"/>\r\n       <use x=\"159.033203\" xlink:href=\"#DejaVuSans-53\"/>\r\n      </g>\r\n     </g>\r\n    </g>\r\n    <g id=\"ytick_3\">\r\n     <g id=\"line2d_12\">\r\n      <g>\r\n       <use style=\"stroke:#000000;stroke-width:0.8;\" x=\"36.465625\" xlink:href=\"#m614e65ad37\" y=\"146.512208\"/>\r\n      </g>\r\n     </g>\r\n     <g id=\"text_12\">\r\n      <!-- 0.50 -->\r\n      <g transform=\"translate(7.2 150.311427)scale(0.1 -0.1)\">\r\n       <use xlink:href=\"#DejaVuSans-48\"/>\r\n       <use x=\"63.623047\" xlink:href=\"#DejaVuSans-46\"/>\r\n       <use x=\"95.410156\" xlink:href=\"#DejaVuSans-53\"/>\r\n       <use x=\"159.033203\" xlink:href=\"#DejaVuSans-48\"/>\r\n      </g>\r\n     </g>\r\n    </g>\r\n    <g id=\"ytick_4\">\r\n     <g id=\"line2d_13\">\r\n      <g>\r\n       <use style=\"stroke:#000000;stroke-width:0.8;\" x=\"36.465625\" xlink:href=\"#m614e65ad37\" y=\"117.096623\"/>\r\n      </g>\r\n     </g>\r\n     <g id=\"text_13\">\r\n      <!-- 0.75 -->\r\n      <g transform=\"translate(7.2 120.895842)scale(0.1 -0.1)\">\r\n       <use xlink:href=\"#DejaVuSans-48\"/>\r\n       <use x=\"63.623047\" xlink:href=\"#DejaVuSans-46\"/>\r\n       <use x=\"95.410156\" xlink:href=\"#DejaVuSans-55\"/>\r\n       <use x=\"159.033203\" xlink:href=\"#DejaVuSans-53\"/>\r\n      </g>\r\n     </g>\r\n    </g>\r\n    <g id=\"ytick_5\">\r\n     <g id=\"line2d_14\">\r\n      <g>\r\n       <use style=\"stroke:#000000;stroke-width:0.8;\" x=\"36.465625\" xlink:href=\"#m614e65ad37\" y=\"87.681039\"/>\r\n      </g>\r\n     </g>\r\n     <g id=\"text_14\">\r\n      <!-- 1.00 -->\r\n      <g transform=\"translate(7.2 91.480258)scale(0.1 -0.1)\">\r\n       <use xlink:href=\"#DejaVuSans-49\"/>\r\n       <use x=\"63.623047\" xlink:href=\"#DejaVuSans-46\"/>\r\n       <use x=\"95.410156\" xlink:href=\"#DejaVuSans-48\"/>\r\n       <use x=\"159.033203\" xlink:href=\"#DejaVuSans-48\"/>\r\n      </g>\r\n     </g>\r\n    </g>\r\n    <g id=\"ytick_6\">\r\n     <g id=\"line2d_15\">\r\n      <g>\r\n       <use style=\"stroke:#000000;stroke-width:0.8;\" x=\"36.465625\" xlink:href=\"#m614e65ad37\" y=\"58.265455\"/>\r\n      </g>\r\n     </g>\r\n     <g id=\"text_15\">\r\n      <!-- 1.25 -->\r\n      <g transform=\"translate(7.2 62.064673)scale(0.1 -0.1)\">\r\n       <use xlink:href=\"#DejaVuSans-49\"/>\r\n       <use x=\"63.623047\" xlink:href=\"#DejaVuSans-46\"/>\r\n       <use x=\"95.410156\" xlink:href=\"#DejaVuSans-50\"/>\r\n       <use x=\"159.033203\" xlink:href=\"#DejaVuSans-53\"/>\r\n      </g>\r\n     </g>\r\n    </g>\r\n    <g id=\"ytick_7\">\r\n     <g id=\"line2d_16\">\r\n      <g>\r\n       <use style=\"stroke:#000000;stroke-width:0.8;\" x=\"36.465625\" xlink:href=\"#m614e65ad37\" y=\"28.84987\"/>\r\n      </g>\r\n     </g>\r\n     <g id=\"text_16\">\r\n      <!-- 1.50 -->\r\n      <g transform=\"translate(7.2 32.649089)scale(0.1 -0.1)\">\r\n       <use xlink:href=\"#DejaVuSans-49\"/>\r\n       <use x=\"63.623047\" xlink:href=\"#DejaVuSans-46\"/>\r\n       <use x=\"95.410156\" xlink:href=\"#DejaVuSans-53\"/>\r\n       <use x=\"159.033203\" xlink:href=\"#DejaVuSans-48\"/>\r\n      </g>\r\n     </g>\r\n    </g>\r\n   </g>\r\n   <g id=\"line2d_17\">\r\n    <path clip-path=\"url(#p56999cc3af)\" d=\"M 51.683807 214.756364 \r\nL 89.729261 190.047273 \r\nL 127.774716 165.338182 \r\nL 165.82017 140.629091 \r\nL 203.865625 115.92 \r\nL 241.91108 91.210909 \r\nL 279.956534 66.501818 \r\nL 318.001989 41.792727 \r\nL 356.047443 17.083636 \r\n\" style=\"fill:none;stroke:#1f77b4;stroke-linecap:square;stroke-width:1.5;\"/>\r\n   </g>\r\n   <g id=\"patch_3\">\r\n    <path d=\"M 36.465625 224.64 \r\nL 36.465625 7.2 \r\n\" style=\"fill:none;stroke:#000000;stroke-linecap:square;stroke-linejoin:miter;stroke-width:0.8;\"/>\r\n   </g>\r\n   <g id=\"patch_4\">\r\n    <path d=\"M 371.265625 224.64 \r\nL 371.265625 7.2 \r\n\" style=\"fill:none;stroke:#000000;stroke-linecap:square;stroke-linejoin:miter;stroke-width:0.8;\"/>\r\n   </g>\r\n   <g id=\"patch_5\">\r\n    <path d=\"M 36.465625 224.64 \r\nL 371.265625 224.64 \r\n\" style=\"fill:none;stroke:#000000;stroke-linecap:square;stroke-linejoin:miter;stroke-width:0.8;\"/>\r\n   </g>\r\n   <g id=\"patch_6\">\r\n    <path d=\"M 36.465625 7.2 \r\nL 371.265625 7.2 \r\n\" style=\"fill:none;stroke:#000000;stroke-linecap:square;stroke-linejoin:miter;stroke-width:0.8;\"/>\r\n   </g>\r\n  </g>\r\n </g>\r\n <defs>\r\n  <clipPath id=\"p56999cc3af\">\r\n   <rect height=\"217.44\" width=\"334.8\" x=\"36.465625\" y=\"7.2\"/>\r\n  </clipPath>\r\n </defs>\r\n</svg>\r\n",
      "image/png": "[encoded data removed]"
     },
     "metadata": {
      "needs_background": "light"
     }
    }
   ],
   "source": [
    "plt.plot(f_1(np.arange(1/100,10/100,1/100)))"
   ]
  },
  {
   "cell_type": "code",
   "execution_count": 186,
   "metadata": {},
   "outputs": [],
   "source": [
    "def NN(element, L):\n",
    "    l = len(L)\n",
    "    cand = 0\n",
    "    tol = np.abs(L[0])+np.abs(element)\n",
    "    for k in range(l):\n",
    "        if np.abs(L[k]-element)<tol:\n",
    "            cand = k\n",
    "            tol = np.abs(L[k]-element)\n",
    "    return cand"
   ]
  },
  {
   "cell_type": "code",
   "execution_count": 96,
   "metadata": {},
   "outputs": [
    {
     "output_type": "execute_result",
     "data": {
      "text/plain": [
       "77"
      ]
     },
     "metadata": {},
     "execution_count": 96
    }
   ],
   "source": [
    "sub_df = df.loc[(df['naca'] == '0006') & (df['reynolds'] == 100000)]\n",
    "len(sub_df['alpha'])"
   ]
  },
  {
   "cell_type": "code",
   "execution_count": 97,
   "metadata": {},
   "outputs": [
    {
     "output_type": "execute_result",
     "data": {
      "text/plain": [
       "41"
      ]
     },
     "metadata": {},
     "execution_count": 97
    }
   ],
   "source": [
    "NN(0.3, sub_df['alpha'])"
   ]
  },
  {
   "cell_type": "code",
   "execution_count": 98,
   "metadata": {},
   "outputs": [
    {
     "output_type": "execute_result",
     "data": {
      "text/plain": [
       "30   -2.50\n",
       "31   -2.25\n",
       "32   -2.00\n",
       "33   -1.75\n",
       "34   -1.50\n",
       "35   -1.25\n",
       "36   -1.00\n",
       "37   -0.75\n",
       "38   -0.50\n",
       "39   -0.25\n",
       "40    0.00\n",
       "41    0.25\n",
       "42    0.50\n",
       "43    0.75\n",
       "44    1.00\n",
       "Name: alpha, dtype: float64"
      ]
     },
     "metadata": {},
     "execution_count": 98
    }
   ],
   "source": [
    "sub_df['alpha'][30:45]"
   ]
  },
  {
   "cell_type": "code",
   "execution_count": 194,
   "metadata": {},
   "outputs": [],
   "source": [
    "def drag_lift(naca, rayon_min, rayon_max, f_vrillage, tpm, v_vertical, largeur, pas = 5):\n",
    "    pho_air = 1.2\n",
    "    lift_tot = 0\n",
    "    drag_tot = 0\n",
    "    mu_air = 1.56*10**-5\n",
    "    RAYONS = np.arange(rayon_min, rayon_max, (rayon_max-rayon_min)/pas)\n",
    "    for rayon in RAYONS:\n",
    "        vitesse_rot = 2 * np.pi * tpm * rayon\n",
    "        rey = np.sqrt(v_vertical**2+vitesse_rot**2)*(rayon_max-rayon_min)/mu_air\n",
    "        all_rey = df.loc[df['naca'] == naca]['reynolds']\n",
    "        reynolds = all_rey[NN(rey, list(all_rey))]\n",
    "        vrillage = f_vrillage(rayon)\n",
    "        alpha = vrillage - np.arctan(v_vertical/vitesse_rot)/np.pi*180\n",
    "        sub_df = df.loc[(df['naca'] == naca) & (df['reynolds'] == reynolds)]\n",
    "        index = NN(alpha, list(sub_df['alpha']))\n",
    "        CD = list(sub_df['CD'])[index]\n",
    "        CL = list(sub_df['CL'])[index]\n",
    "        lift_tot+= 1/2 * pho_air * (v_vertical**2+vitesse_rot**2) * largeur * (RAYONS[1]-RAYONS[2]) * CL\n",
    "        drag_tot+= 1/2 * pho_air * (v_vertical**2+vitesse_rot**2) * largeur * (RAYONS[1]-RAYONS[2]) * CD\n",
    "    return lift_tot, drag_tot\n"
   ]
  },
  {
   "cell_type": "code",
   "execution_count": 195,
   "metadata": {},
   "outputs": [],
   "source": [
    "a,b = drag_lift(naca = '0006', rayon_min = 2/1000, rayon_max = 7/100, f_vrillage = f_1, tpm = 2200, v_vertical = 0, largeur = 1.5/100, pas = 20)"
   ]
  },
  {
   "cell_type": "code",
   "execution_count": 191,
   "metadata": {},
   "outputs": [
    {
     "output_type": "execute_result",
     "data": {
      "text/plain": [
       "14.30161684650961"
      ]
     },
     "metadata": {},
     "execution_count": 191
    }
   ],
   "source": [
    "a"
   ]
  },
  {
   "cell_type": "code",
   "execution_count": 134,
   "metadata": {},
   "outputs": [],
   "source": [
    "index = NN(a,b)"
   ]
  },
  {
   "cell_type": "code",
   "execution_count": null,
   "metadata": {},
   "outputs": [],
   "source": []
  },
  {
   "cell_type": "code",
   "execution_count": 42,
   "metadata": {},
   "outputs": [],
   "source": [
    " x = drag_lift(1,0,10,0,0,0)"
   ]
  }
 ]
}