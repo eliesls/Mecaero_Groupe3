{
 "metadata": {
  "language_info": {
   "codemirror_mode": {
    "name": "ipython",
    "version": 3
   },
   "file_extension": ".py",
   "mimetype": "text/x-python",
   "name": "python",
   "nbconvert_exporter": "python",
   "pygments_lexer": "ipython3",
   "version": "3.7.4-final"
  },
  "orig_nbformat": 2,
  "kernelspec": {
   "name": "python374jvsc74a57bd07dc85df5abdb7299892afc81f97b0ca5fe5f0f4fc868fa5548fc0c2681495dff",
   "display_name": "Python 3.7.4 64-bit (conda)"
  }
 },
 "nbformat": 4,
 "nbformat_minor": 2,
 "cells": [
  {
   "cell_type": "code",
   "execution_count": 114,
   "metadata": {},
   "outputs": [],
   "source": [
    "import numpy as np\n",
    "import pandas as pd\n",
    "from matplotlib import pyplot as plt\n",
    "import os\n",
    "from tqdm import tqdm"
   ]
  },
  {
   "cell_type": "code",
   "execution_count": 115,
   "metadata": {},
   "outputs": [],
   "source": [
    "naca_number = '0018'\n",
    "reynolds = '200000'\n",
    "path = f'Polars/xf-naca{naca_number}-il-{reynolds}.txt'"
   ]
  },
  {
   "cell_type": "code",
   "execution_count": 116,
   "metadata": {},
   "outputs": [
    {
     "output_type": "execute_result",
     "data": {
      "text/plain": [
       "['naca0006', '100000']"
      ]
     },
     "metadata": {},
     "execution_count": 116
    }
   ],
   "source": [
    "NACAS = os.listdir('Polars')\n",
    "NACAS[0][3:-4].split('-il-')"
   ]
  },
  {
   "cell_type": "code",
   "execution_count": 143,
   "metadata": {},
   "outputs": [
    {
     "output_type": "stream",
     "name": "stderr",
     "text": [
      "100%|██████████| 479/479 [03:22<00:00,  2.37it/s]\n"
     ]
    }
   ],
   "source": [
    "naca_df = pd.DataFrame(columns=['naca','reynolds','alpha', 'CL', 'CD', 'CDp', 'CM', 'Top_Xtr', 'Bot_Xtr'])\n",
    "NACAS = os.listdir('Polars')\n",
    "count=0\n",
    "for naca in tqdm(NACAS):\n",
    "    [naca, reynolds] = naca[3:-4].split('-il-')\n",
    "    naca_number = naca[4:]\n",
    "    reynolds = int(reynolds)\n",
    "    path = f'Polars/xf-naca{naca_number}-il-{reynolds}.txt'\n",
    "    file = open(path, 'r')\n",
    "    for line in file:\n",
    "        if '--------' in line:\n",
    "            for line in file:\n",
    "                myline = list(filter(lambda x: x != '', line.split(' ')))\n",
    "                myline = [naca_number, reynolds] + [float(k) for k in myline]\n",
    "                naca_df.loc[count] = myline\n",
    "                count+=1"
   ]
  },
  {
   "cell_type": "code",
   "execution_count": 146,
   "metadata": {
    "tags": []
   },
   "outputs": [],
   "source": [
    "naca_df.to_csv('nacas.csv',index = False, header = True)"
   ]
  },
  {
   "cell_type": "code",
   "execution_count": 152,
   "metadata": {},
   "outputs": [
    {
     "output_type": "execute_result",
     "data": {
      "text/plain": [
       "     naca reynolds  alpha      CL       CD      CDp      CM  Top_Xtr  Bot_Xtr\n",
       "0    0006   100000 -10.00 -0.5661  0.11269  0.10814  0.0140   1.0000   0.0914\n",
       "1    0006   100000  -9.75 -0.5830  0.10909  0.10461  0.0097   1.0000   0.0925\n",
       "2    0006   100000  -9.50 -0.7037  0.11447  0.10977  0.0241   1.0000   0.0814\n",
       "3    0006   100000  -9.25 -0.6934  0.11087  0.10614  0.0257   1.0000   0.0859\n",
       "4    0006   100000  -9.00 -0.6952  0.10675  0.10207  0.0227   1.0000   0.0898\n",
       "..    ...      ...    ...     ...      ...      ...     ...      ...      ...\n",
       "270  0006    50000   7.00  0.6546  0.08637  0.08007 -0.0401   0.3824   1.0000\n",
       "271  0006    50000   7.50  0.6649  0.09390  0.08752 -0.0383   0.3427   1.0000\n",
       "272  0006    50000   7.75  0.6872  0.09890  0.09255 -0.0353   0.3183   1.0000\n",
       "273  0006    50000   8.00  0.6770  0.10150  0.09505 -0.0362   0.3020   1.0000\n",
       "274  0006    50000   8.25  0.6750  0.10464  0.09813 -0.0362   0.2836   1.0000\n",
       "\n",
       "[275 rows x 9 columns]"
      ],
      "text/html": "<div>\n<style scoped>\n    .dataframe tbody tr th:only-of-type {\n        vertical-align: middle;\n    }\n\n    .dataframe tbody tr th {\n        vertical-align: top;\n    }\n\n    .dataframe thead th {\n        text-align: right;\n    }\n</style>\n<table border=\"1\" class=\"dataframe\">\n  <thead>\n    <tr style=\"text-align: right;\">\n      <th></th>\n      <th>naca</th>\n      <th>reynolds</th>\n      <th>alpha</th>\n      <th>CL</th>\n      <th>CD</th>\n      <th>CDp</th>\n      <th>CM</th>\n      <th>Top_Xtr</th>\n      <th>Bot_Xtr</th>\n    </tr>\n  </thead>\n  <tbody>\n    <tr>\n      <td>0</td>\n      <td>0006</td>\n      <td>100000</td>\n      <td>-10.00</td>\n      <td>-0.5661</td>\n      <td>0.11269</td>\n      <td>0.10814</td>\n      <td>0.0140</td>\n      <td>1.0000</td>\n      <td>0.0914</td>\n    </tr>\n    <tr>\n      <td>1</td>\n      <td>0006</td>\n      <td>100000</td>\n      <td>-9.75</td>\n      <td>-0.5830</td>\n      <td>0.10909</td>\n      <td>0.10461</td>\n      <td>0.0097</td>\n      <td>1.0000</td>\n      <td>0.0925</td>\n    </tr>\n    <tr>\n      <td>2</td>\n      <td>0006</td>\n      <td>100000</td>\n      <td>-9.50</td>\n      <td>-0.7037</td>\n      <td>0.11447</td>\n      <td>0.10977</td>\n      <td>0.0241</td>\n      <td>1.0000</td>\n      <td>0.0814</td>\n    </tr>\n    <tr>\n      <td>3</td>\n      <td>0006</td>\n      <td>100000</td>\n      <td>-9.25</td>\n      <td>-0.6934</td>\n      <td>0.11087</td>\n      <td>0.10614</td>\n      <td>0.0257</td>\n      <td>1.0000</td>\n      <td>0.0859</td>\n    </tr>\n    <tr>\n      <td>4</td>\n      <td>0006</td>\n      <td>100000</td>\n      <td>-9.00</td>\n      <td>-0.6952</td>\n      <td>0.10675</td>\n      <td>0.10207</td>\n      <td>0.0227</td>\n      <td>1.0000</td>\n      <td>0.0898</td>\n    </tr>\n    <tr>\n      <td>...</td>\n      <td>...</td>\n      <td>...</td>\n      <td>...</td>\n      <td>...</td>\n      <td>...</td>\n      <td>...</td>\n      <td>...</td>\n      <td>...</td>\n      <td>...</td>\n    </tr>\n    <tr>\n      <td>270</td>\n      <td>0006</td>\n      <td>50000</td>\n      <td>7.00</td>\n      <td>0.6546</td>\n      <td>0.08637</td>\n      <td>0.08007</td>\n      <td>-0.0401</td>\n      <td>0.3824</td>\n      <td>1.0000</td>\n    </tr>\n    <tr>\n      <td>271</td>\n      <td>0006</td>\n      <td>50000</td>\n      <td>7.50</td>\n      <td>0.6649</td>\n      <td>0.09390</td>\n      <td>0.08752</td>\n      <td>-0.0383</td>\n      <td>0.3427</td>\n      <td>1.0000</td>\n    </tr>\n    <tr>\n      <td>272</td>\n      <td>0006</td>\n      <td>50000</td>\n      <td>7.75</td>\n      <td>0.6872</td>\n      <td>0.09890</td>\n      <td>0.09255</td>\n      <td>-0.0353</td>\n      <td>0.3183</td>\n      <td>1.0000</td>\n    </tr>\n    <tr>\n      <td>273</td>\n      <td>0006</td>\n      <td>50000</td>\n      <td>8.00</td>\n      <td>0.6770</td>\n      <td>0.10150</td>\n      <td>0.09505</td>\n      <td>-0.0362</td>\n      <td>0.3020</td>\n      <td>1.0000</td>\n    </tr>\n    <tr>\n      <td>274</td>\n      <td>0006</td>\n      <td>50000</td>\n      <td>8.25</td>\n      <td>0.6750</td>\n      <td>0.10464</td>\n      <td>0.09813</td>\n      <td>-0.0362</td>\n      <td>0.2836</td>\n      <td>1.0000</td>\n    </tr>\n  </tbody>\n</table>\n<p>275 rows × 9 columns</p>\n</div>"
     },
     "metadata": {},
     "execution_count": 152
    }
   ],
   "source": [
    "naca_df.loc[naca_df['naca'] == '0006']"
   ]
  }
 ]
}